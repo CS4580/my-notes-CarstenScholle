{
 "cells": [
  {
   "cell_type": "markdown",
   "metadata": {},
   "source": [
    "## Chi-Squared Analysis\n",
    "\n",
    "### First Question: Did more woman and children survive compared to man\n",
    "\n",
    "Dataset from Canvas (Titanic passenger list.csv)"
   ]
  },
  {
   "cell_type": "code",
   "execution_count": 3,
   "metadata": {},
   "outputs": [],
   "source": [
    "import pandas as pd\n",
    "import matplotlib.pyplot as plt\n",
    "import seaborn as sns"
   ]
  },
  {
   "cell_type": "code",
   "execution_count": 7,
   "metadata": {},
   "outputs": [
    {
     "data": {
      "text/html": [
       "<div>\n",
       "<style scoped>\n",
       "    .dataframe tbody tr th:only-of-type {\n",
       "        vertical-align: middle;\n",
       "    }\n",
       "\n",
       "    .dataframe tbody tr th {\n",
       "        vertical-align: top;\n",
       "    }\n",
       "\n",
       "    .dataframe thead th {\n",
       "        text-align: right;\n",
       "    }\n",
       "</style>\n",
       "<table border=\"1\" class=\"dataframe\">\n",
       "  <thead>\n",
       "    <tr style=\"text-align: right;\">\n",
       "      <th></th>\n",
       "      <th>Name</th>\n",
       "      <th>Born</th>\n",
       "      <th>Died</th>\n",
       "      <th>Age</th>\n",
       "      <th>Gender</th>\n",
       "      <th>Passenger_Class</th>\n",
       "      <th>Lived_Died</th>\n",
       "      <th>Fare</th>\n",
       "      <th>Fare_decimal</th>\n",
       "    </tr>\n",
       "  </thead>\n",
       "  <tbody>\n",
       "    <tr>\n",
       "      <th>0</th>\n",
       "      <td>DEAN, Miss Elizabeth Gladys Millvina</td>\n",
       "      <td>1912.0</td>\n",
       "      <td>2009.0</td>\n",
       "      <td>0.166667</td>\n",
       "      <td>Female</td>\n",
       "      <td>3</td>\n",
       "      <td>lived</td>\n",
       "      <td>£20             11s             6d</td>\n",
       "      <td>20.58</td>\n",
       "    </tr>\n",
       "    <tr>\n",
       "      <th>1</th>\n",
       "      <td>DANBOM, Master Gilbert Sigvard Emanuel</td>\n",
       "      <td>1911.0</td>\n",
       "      <td>1912.0</td>\n",
       "      <td>0.333333</td>\n",
       "      <td>Male</td>\n",
       "      <td>3</td>\n",
       "      <td>died</td>\n",
       "      <td>£14             8s</td>\n",
       "      <td>14.40</td>\n",
       "    </tr>\n",
       "    <tr>\n",
       "      <th>2</th>\n",
       "      <td>TANNūS, Master As'ad</td>\n",
       "      <td>1911.0</td>\n",
       "      <td>1931.0</td>\n",
       "      <td>0.416667</td>\n",
       "      <td>Male</td>\n",
       "      <td>3</td>\n",
       "      <td>lived</td>\n",
       "      <td>£8             10s             4d</td>\n",
       "      <td>8.52</td>\n",
       "    </tr>\n",
       "    <tr>\n",
       "      <th>3</th>\n",
       "      <td>PEACOCK, Master Albert Edward</td>\n",
       "      <td>1911.0</td>\n",
       "      <td>1912.0</td>\n",
       "      <td>0.583333</td>\n",
       "      <td>Male</td>\n",
       "      <td>3</td>\n",
       "      <td>died</td>\n",
       "      <td>£13             15s             6d</td>\n",
       "      <td>13.78</td>\n",
       "    </tr>\n",
       "    <tr>\n",
       "      <th>4</th>\n",
       "      <td>RICHARDS, Master Sibley George</td>\n",
       "      <td>1911.0</td>\n",
       "      <td>1987.0</td>\n",
       "      <td>0.750000</td>\n",
       "      <td>Male</td>\n",
       "      <td>2</td>\n",
       "      <td>lived</td>\n",
       "      <td>£18             15s</td>\n",
       "      <td>18.75</td>\n",
       "    </tr>\n",
       "    <tr>\n",
       "      <th>...</th>\n",
       "      <td>...</td>\n",
       "      <td>...</td>\n",
       "      <td>...</td>\n",
       "      <td>...</td>\n",
       "      <td>...</td>\n",
       "      <td>...</td>\n",
       "      <td>...</td>\n",
       "      <td>...</td>\n",
       "      <td>...</td>\n",
       "    </tr>\n",
       "    <tr>\n",
       "      <th>1347</th>\n",
       "      <td>FLETCHER, Miss N.</td>\n",
       "      <td>NaN</td>\n",
       "      <td>NaN</td>\n",
       "      <td>NaN</td>\n",
       "      <td>Female</td>\n",
       "      <td>1</td>\n",
       "      <td>died</td>\n",
       "      <td>£1             10s</td>\n",
       "      <td>1.50</td>\n",
       "    </tr>\n",
       "    <tr>\n",
       "      <th>1348</th>\n",
       "      <td>STEVENS, Mr George</td>\n",
       "      <td>NaN</td>\n",
       "      <td>NaN</td>\n",
       "      <td>NaN</td>\n",
       "      <td>Male</td>\n",
       "      <td>1</td>\n",
       "      <td>died</td>\n",
       "      <td>£1             10s</td>\n",
       "      <td>1.50</td>\n",
       "    </tr>\n",
       "    <tr>\n",
       "      <th>1349</th>\n",
       "      <td>CARRUTHERS, Mr Francis</td>\n",
       "      <td>NaN</td>\n",
       "      <td>NaN</td>\n",
       "      <td>NaN</td>\n",
       "      <td>Male</td>\n",
       "      <td>1</td>\n",
       "      <td>died</td>\n",
       "      <td>NaN</td>\n",
       "      <td>NaN</td>\n",
       "    </tr>\n",
       "    <tr>\n",
       "      <th>1350</th>\n",
       "      <td>COLLIS, Mr</td>\n",
       "      <td>NaN</td>\n",
       "      <td>NaN</td>\n",
       "      <td>NaN</td>\n",
       "      <td>Male</td>\n",
       "      <td>1</td>\n",
       "      <td>died</td>\n",
       "      <td>NaN</td>\n",
       "      <td>NaN</td>\n",
       "    </tr>\n",
       "    <tr>\n",
       "      <th>1351</th>\n",
       "      <td>WILDING, Mr Edward</td>\n",
       "      <td>NaN</td>\n",
       "      <td>NaN</td>\n",
       "      <td>NaN</td>\n",
       "      <td>Male</td>\n",
       "      <td>1</td>\n",
       "      <td>died</td>\n",
       "      <td>NaN</td>\n",
       "      <td>NaN</td>\n",
       "    </tr>\n",
       "  </tbody>\n",
       "</table>\n",
       "<p>1352 rows × 9 columns</p>\n",
       "</div>"
      ],
      "text/plain": [
       "                                        Name    Born    Died       Age  \\\n",
       "0       DEAN, Miss Elizabeth Gladys Millvina  1912.0  2009.0  0.166667   \n",
       "1     DANBOM, Master Gilbert Sigvard Emanuel  1911.0  1912.0  0.333333   \n",
       "2                       TANNūS, Master As'ad  1911.0  1931.0  0.416667   \n",
       "3              PEACOCK, Master Albert Edward  1911.0  1912.0  0.583333   \n",
       "4             RICHARDS, Master Sibley George  1911.0  1987.0  0.750000   \n",
       "...                                      ...     ...     ...       ...   \n",
       "1347                       FLETCHER, Miss N.     NaN     NaN       NaN   \n",
       "1348                      STEVENS, Mr George     NaN     NaN       NaN   \n",
       "1349                  CARRUTHERS, Mr Francis     NaN     NaN       NaN   \n",
       "1350                              COLLIS, Mr     NaN     NaN       NaN   \n",
       "1351                      WILDING, Mr Edward     NaN     NaN       NaN   \n",
       "\n",
       "      Gender  Passenger_Class Lived_Died                                Fare  \\\n",
       "0     Female                3      lived  £20             11s             6d   \n",
       "1       Male                3       died                  £14             8s   \n",
       "2       Male                3      lived   £8             10s             4d   \n",
       "3       Male                3       died  £13             15s             6d   \n",
       "4       Male                2      lived                 £18             15s   \n",
       "...      ...              ...        ...                                 ...   \n",
       "1347  Female                1       died                  £1             10s   \n",
       "1348    Male                1       died                  £1             10s   \n",
       "1349    Male                1       died                                 NaN   \n",
       "1350    Male                1       died                                 NaN   \n",
       "1351    Male                1       died                                 NaN   \n",
       "\n",
       "      Fare_decimal  \n",
       "0            20.58  \n",
       "1            14.40  \n",
       "2             8.52  \n",
       "3            13.78  \n",
       "4            18.75  \n",
       "...            ...  \n",
       "1347          1.50  \n",
       "1348          1.50  \n",
       "1349           NaN  \n",
       "1350           NaN  \n",
       "1351           NaN  \n",
       "\n",
       "[1352 rows x 9 columns]"
      ]
     },
     "execution_count": 7,
     "metadata": {},
     "output_type": "execute_result"
    }
   ],
   "source": [
    "df_titanic = pd.read_csv(\"../data/Titanic_Passengers.csv\")\n",
    "df_titanic"
   ]
  },
  {
   "cell_type": "markdown",
   "metadata": {},
   "source": [
    "- What kind of data the the `dependent` variable?\n",
    "\n",
    "- What kind of data is the `gender` (indep. variable)?\n",
    "    - Nominal\n",
    "\n",
    "Two types\n",
    "- `Ordinal` data. Data that can be ordered.\n",
    "- `Categorical/nominal`. Data that can not be ordered."
   ]
  },
  {
   "cell_type": "code",
   "execution_count": 12,
   "metadata": {},
   "outputs": [
    {
     "data": {
      "text/html": [
       "<div>\n",
       "<style scoped>\n",
       "    .dataframe tbody tr th:only-of-type {\n",
       "        vertical-align: middle;\n",
       "    }\n",
       "\n",
       "    .dataframe tbody tr th {\n",
       "        vertical-align: top;\n",
       "    }\n",
       "\n",
       "    .dataframe thead th {\n",
       "        text-align: right;\n",
       "    }\n",
       "</style>\n",
       "<table border=\"1\" class=\"dataframe\">\n",
       "  <thead>\n",
       "    <tr style=\"text-align: right;\">\n",
       "      <th>Lived_Died</th>\n",
       "      <th>died</th>\n",
       "      <th>lived</th>\n",
       "      <th>All</th>\n",
       "    </tr>\n",
       "    <tr>\n",
       "      <th>Gender</th>\n",
       "      <th></th>\n",
       "      <th></th>\n",
       "      <th></th>\n",
       "    </tr>\n",
       "  </thead>\n",
       "  <tbody>\n",
       "    <tr>\n",
       "      <th>Female</th>\n",
       "      <td>143</td>\n",
       "      <td>339</td>\n",
       "      <td>482</td>\n",
       "    </tr>\n",
       "    <tr>\n",
       "      <th>Male</th>\n",
       "      <td>709</td>\n",
       "      <td>161</td>\n",
       "      <td>870</td>\n",
       "    </tr>\n",
       "    <tr>\n",
       "      <th>All</th>\n",
       "      <td>852</td>\n",
       "      <td>500</td>\n",
       "      <td>1352</td>\n",
       "    </tr>\n",
       "  </tbody>\n",
       "</table>\n",
       "</div>"
      ],
      "text/plain": [
       "Lived_Died  died  lived   All\n",
       "Gender                       \n",
       "Female       143    339   482\n",
       "Male         709    161   870\n",
       "All          852    500  1352"
      ]
     },
     "execution_count": 12,
     "metadata": {},
     "output_type": "execute_result"
    }
   ],
   "source": [
    "contingency_table = pd.crosstab(df_titanic['Gender'], df_titanic['Lived_Died'], margins=True)\n",
    "contingency_table"
   ]
  },
  {
   "cell_type": "code",
   "execution_count": 18,
   "metadata": {},
   "outputs": [
    {
     "data": {
      "text/plain": [
       "<Axes: title={'center': 'Number of passengers that lived or died by gender'}, xlabel='Gender', ylabel='Count'>"
      ]
     },
     "execution_count": 18,
     "metadata": {},
     "output_type": "execute_result"
    },
    {
     "data": {
      "image/png": "[encoded data removed]",
      "text/plain": [
       "<Figure size 640x480 with 1 Axes>"
      ]
     },
     "metadata": {},
     "output_type": "display_data"
    }
   ],
   "source": [
    "# Task: Create a stacked bar chart showing the number of passengers by gender that lived or died\n",
    "\n",
    "# Exclude the last column and row (summary info)\n",
    "contingency_table = contingency_table.iloc[:-1, :-1]\n",
    "contingency_table.plot(kind='bar', stacked=True, title='Number of passengers that lived or died by gender', ylabel='Count')"
   ]
  },
  {
   "cell_type": "code",
   "execution_count": 19,
   "metadata": {},
   "outputs": [
    {
     "data": {
      "text/plain": [
       "Gender  Lived_Died\n",
       "Female  lived         339\n",
       "        died          143\n",
       "Male    died          709\n",
       "        lived         161\n",
       "Name: count, dtype: int64"
      ]
     },
     "execution_count": 19,
     "metadata": {},
     "output_type": "execute_result"
    }
   ],
   "source": [
    "# Alternative way to get the data\n",
    "df_titanic.groupby('Gender')['Lived_Died'].value_counts()"
   ]
  },
  {
   "cell_type": "code",
   "execution_count": 20,
   "metadata": {},
   "outputs": [
    {
     "name": "stdout",
     "output_type": "stream",
     "text": [
      "(355.24355436145913, 3.0570688722545846e-79, 1)\n"
     ]
    }
   ],
   "source": [
    "from scipy import stats # For chi2\n",
    "print(stats.chi2_contingency(contingency_table)[0:3])\n",
    "\n",
    "# you get 3 values back:\n",
    "# 1) Chi-Squared: The higher the Chi-Squared statistics, the less likelihood that the observed values were the result of pure chance\n",
    "# 2) Target P-Value\n",
    "# 3) Degrees of freedom: 1 degree of freedom. (2 rows -1) * (2 columns - 1) = 1\n",
    "\n",
    "# --> Gives us more confidence that not by chance more males than females died but instead that there is a relationship"
   ]
  },
  {
   "cell_type": "markdown",
   "metadata": {},
   "source": [
    "## Chi-Square Example: Was Age relevant?"
   ]
  },
  {
   "cell_type": "code",
   "execution_count": 26,
   "metadata": {},
   "outputs": [
    {
     "name": "stdout",
     "output_type": "stream",
     "text": [
      "Lived_Died  died  lived\n",
      "Age_Bin                \n",
      "0-10          46     54\n",
      "11-20        156     71\n",
      "21-30        286    166\n",
      "31-40        158    107\n",
      "41-50        111     64\n",
      "51-60         40     30\n",
      "61-70         27      7\n",
      "71-80          5      0\n",
      "Chi2-Stats (24.465546982751874, 0.0009433264132943263, 7)\n"
     ]
    }
   ],
   "source": [
    "# Check the age column. It is already fixed for the age at the time of the incident\n",
    "\n",
    "# What about null values?\n",
    "\n",
    "# Create the bins\n",
    "df_titanic['Age_Bin'] = pd.cut(df_titanic['Age'], bins=[0, 10, 20, 30, 40, 50, 60, 70, 80], labels=['0-10', '11-20', '21-30', '31-40', '41-50', '51-60', '61-70', '71-80'])\n",
    "contingency_table = pd.crosstab(df_titanic['Age_Bin'], df_titanic['Lived_Died'])\n",
    "print(contingency_table)\n",
    "print(f'Chi2-Stats {stats.chi2_contingency(contingency_table)[0:3]}')"
   ]
  },
  {
   "cell_type": "code",
   "execution_count": 33,
   "metadata": {},
   "outputs": [
    {
     "data": {
      "text/plain": [
       "<Axes: title={'center': 'Number of passengers that lived or died by age group'}, xlabel='Age_Bin', ylabel='Count'>"
      ]
     },
     "execution_count": 33,
     "metadata": {},
     "output_type": "execute_result"
    },
    {
     "data": {
      "image/png": "[encoded data removed]",
      "text/plain": [
       "<Figure size 640x480 with 1 Axes>"
      ]
     },
     "metadata": {},
     "output_type": "display_data"
    }
   ],
   "source": [
    "# Create a histogram\n",
    "contingency_table.plot(kind='bar', stacked=True, title='Number of passengers that lived or died by age group', ylabel='Count')"
   ]
  },
  {
   "cell_type": "code",
   "execution_count": 37,
   "metadata": {},
   "outputs": [
    {
     "name": "stderr",
     "output_type": "stream",
     "text": [
      "C:\\Users\\carst\\AppData\\Local\\Temp\\ipykernel_10140\\1320496476.py:2: FutureWarning: The default of observed=False is deprecated and will be changed to True in a future version of pandas. Pass observed=False to retain current behavior or observed=True to adopt the future default and silence this warning.\n",
      "  df_titanic.groupby('Age_Bin')['Lived_Died'].value_counts()\n"
     ]
    },
    {
     "data": {
      "text/plain": [
       "Age_Bin  Lived_Died\n",
       "0-10     lived          54\n",
       "         died           46\n",
       "11-20    died          156\n",
       "         lived          71\n",
       "21-30    died          286\n",
       "         lived         166\n",
       "31-40    died          158\n",
       "         lived         107\n",
       "41-50    died          111\n",
       "         lived          64\n",
       "51-60    died           40\n",
       "         lived          30\n",
       "61-70    died           27\n",
       "         lived           7\n",
       "71-80    died            5\n",
       "         lived           0\n",
       "Name: count, dtype: int64"
      ]
     },
     "execution_count": 37,
     "metadata": {},
     "output_type": "execute_result"
    }
   ],
   "source": [
    "# Alternative way\n",
    "df_titanic.groupby('Age_Bin')['Lived_Died'].value_counts()"
   ]
  },
  {
   "cell_type": "code",
   "execution_count": null,
   "metadata": {},
   "outputs": [],
   "source": []
  }
 ],
 "metadata": {
  "kernelspec": {
   "display_name": "CS4580_Module6",
   "language": "python",
   "name": "python3"
  },
  "language_info": {
   "codemirror_mode": {
    "name": "ipython",
    "version": 3
   },
   "file_extension": ".py",
   "mimetype": "text/x-python",
   "name": "python",
   "nbconvert_exporter": "python",
   "pygments_lexer": "ipython3",
   "version": "3.12.7"
  }
 },
 "nbformat": 4,
 "nbformat_minor": 2
}
