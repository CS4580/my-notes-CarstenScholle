{
 "cells": [
  {
   "cell_type": "markdown",
   "metadata": {},
   "source": [
    "## Iterables\n",
    "Includes comprehensions, iterable objects and iterators. We can briefly discuss the lazy evaluation model with generators.\n",
    "\n",
    "## List Comprehensions\n",
    "The shorthand of comprehensions will make your code more readable, expressive and effective\n",
    "\n",
    "General Form:\n",
    "```python\n",
    "[expr(item) for item in iterable]\n",
    "```"
   ]
  },
  {
   "cell_type": "code",
   "execution_count": 2,
   "metadata": {},
   "outputs": [
    {
     "data": {
      "text/plain": [
       "['Today', 'I', 'am', 'very', 'happy', 'to', 'learn', 'about', 'Comprehensions']"
      ]
     },
     "execution_count": 2,
     "metadata": {},
     "output_type": "execute_result"
    }
   ],
   "source": [
    "# a big string\n",
    "words = \"Today I am very happy  to learn about Comprehensions\".split()\n",
    "words\n"
   ]
  },
  {
   "cell_type": "code",
   "execution_count": 3,
   "metadata": {},
   "outputs": [
    {
     "name": "stdout",
     "output_type": "stream",
     "text": [
      "['Today', 'I', 'am', 'very', 'happy', 'to', 'learn', 'about', 'Comprehensions']\n",
      "[5, 1, 2, 4, 5, 2, 5, 5, 14]\n"
     ]
    }
   ],
   "source": [
    "# Create a new list with the length of each string from words\n",
    "lengths = []\n",
    "for word in words:\n",
    "    lengths.append(len(word))\n",
    "\n",
    "print(words)\n",
    "print(lengths)"
   ]
  },
  {
   "cell_type": "code",
   "execution_count": 4,
   "metadata": {},
   "outputs": [
    {
     "name": "stdout",
     "output_type": "stream",
     "text": [
      "[5, 1, 2, 4, 5, 2, 5, 5, 14]\n",
      "['Today', 'I', 'am', 'very', 'happy', 'to', 'learn', 'about', 'Comprehensions']\n"
     ]
    }
   ],
   "source": [
    "# Use a List comprehension instead\n",
    "lengths = [len(word) for word in words]\n",
    "print(lengths)\n",
    "print(words)"
   ]
  },
  {
   "cell_type": "code",
   "execution_count": 11,
   "metadata": {},
   "outputs": [
    {
     "data": {
      "text/plain": [
       "[1, 1, 1, 2, 3, 3, 4, 5, 6, 7, 8, 9, 10, 11, 13, 14, 15, 16, 18, 19]"
      ]
     },
     "execution_count": 11,
     "metadata": {},
     "output_type": "execute_result"
    }
   ],
   "source": [
    "# Using a list comprehension, calculate the length (number of digits) of the first 20 factorial numbers\n",
    "from math import factorial\n",
    "numbers = [len(str(factorial(num))) for num in range(1, 21)]\n",
    "numbers"
   ]
  },
  {
   "cell_type": "markdown",
   "metadata": {},
   "source": [
    "### Set Comprehensions\n",
    "\n",
    "General form:\n",
    "\n",
    "```python\n",
    "{expr(item) for item in iterable}\n",
    "```"
   ]
  },
  {
   "cell_type": "code",
   "execution_count": 12,
   "metadata": {},
   "outputs": [
    {
     "data": {
      "text/plain": [
       "{1, 2, 3, 4, 5, 6, 7, 8, 9, 10, 11, 13, 14, 15, 16, 18, 19}"
      ]
     },
     "execution_count": 12,
     "metadata": {},
     "output_type": "execute_result"
    }
   ],
   "source": [
    "# Task: Create a list of unique length fo the first 20 factorials\n",
    "numbers = {len(str(factorial(num))) for num in range(1, 21)}\n",
    "numbers"
   ]
  },
  {
   "cell_type": "markdown",
   "metadata": {},
   "source": [
    "## Dictionary Comprehensions\n",
    "\n",
    "General Form\n",
    "```python\n",
    "{key_expr:value for item in iterable}\n",
    "```"
   ]
  },
  {
   "cell_type": "code",
   "execution_count": 14,
   "metadata": {},
   "outputs": [
    {
     "name": "stdout",
     "output_type": "stream",
     "text": [
      "{'Warriors': 'San Francisco', 'Lakers': 'Los Angeles', 'Jazz': 'SLC'}\n",
      "{'San Francisco': 'Warriors', 'Los Angeles': 'Lakers', 'SLC': 'Jazz'}\n"
     ]
    }
   ],
   "source": [
    "nba_teams = {'Warriors':'San Francisco', 'Lakers': 'Los Angeles', 'Jazz': 'SLC'}\n",
    "# Create a dictionary comprehension\n",
    "teams_nba = {city: mascot for mascot, city in nba_teams.items()}\n",
    "print(nba_teams)\n",
    "print(teams_nba)"
   ]
  },
  {
   "cell_type": "markdown",
   "metadata": {},
   "source": [
    "### Filtering Predicates\n",
    "You may use `optional` filtering predicate.\n",
    "\n",
    "General form\n",
    "```python\n",
    "[expr(item) for item in iterable if predicate(item)]\n",
    "```"
   ]
  },
  {
   "cell_type": "code",
   "execution_count": 16,
   "metadata": {},
   "outputs": [
    {
     "data": {
      "text/plain": [
       "[2,\n",
       " 3,\n",
       " 5,\n",
       " 7,\n",
       " 11,\n",
       " 13,\n",
       " 17,\n",
       " 19,\n",
       " 23,\n",
       " 29,\n",
       " 31,\n",
       " 37,\n",
       " 41,\n",
       " 43,\n",
       " 47,\n",
       " 53,\n",
       " 59,\n",
       " 61,\n",
       " 67,\n",
       " 71,\n",
       " 73,\n",
       " 79,\n",
       " 83,\n",
       " 89,\n",
       " 97]"
      ]
     },
     "execution_count": 16,
     "metadata": {},
     "output_type": "execute_result"
    }
   ],
   "source": [
    "from math import sqrt\n",
    "\n",
    "def is_prime(number: int) -> bool:\n",
    "    if number < 2:\n",
    "        return False\n",
    "    for i in range(2, int(sqrt(number)) + 1):\n",
    "        if number % i == 0:\n",
    "            return False\n",
    "    return True\n",
    "\n",
    "# Task: Create a list of prime numbers in the first 100 numbers\n",
    "primes = [number for number in range(101) if is_prime(number)]\n",
    "primes\n",
    "\n",
    "# MOMENT OF ZEN:  Simple is Better than Complex. (Quasi die Regeln des Python)\n",
    "# Code is written once, but read over and over\n",
    "# Fewer is clearer"
   ]
  },
  {
   "cell_type": "code",
   "execution_count": 17,
   "metadata": {},
   "outputs": [
    {
     "name": "stdout",
     "output_type": "stream",
     "text": [
      "The Zen of Python, by Tim Peters\n",
      "\n",
      "Beautiful is better than ugly.\n",
      "Explicit is better than implicit.\n",
      "Simple is better than complex.\n",
      "Complex is better than complicated.\n",
      "Flat is better than nested.\n",
      "Sparse is better than dense.\n",
      "Readability counts.\n",
      "Special cases aren't special enough to break the rules.\n",
      "Although practicality beats purity.\n",
      "Errors should never pass silently.\n",
      "Unless explicitly silenced.\n",
      "In the face of ambiguity, refuse the temptation to guess.\n",
      "There should be one-- and preferably only one --obvious way to do it.\n",
      "Although that way may not be obvious at first unless you're Dutch.\n",
      "Now is better than never.\n",
      "Although never is often better than *right* now.\n",
      "If the implementation is hard to explain, it's a bad idea.\n",
      "If the implementation is easy to explain, it may be a good idea.\n",
      "Namespaces are one honking great idea -- let's do more of those!\n"
     ]
    }
   ],
   "source": [
    "import this # Zen of Python"
   ]
  },
  {
   "cell_type": "markdown",
   "metadata": {},
   "source": [
    "### TODO:#\n",
    "- Iteration Protocols\n",
    "- Generators"
   ]
  },
  {
   "cell_type": "markdown",
   "metadata": {},
   "source": []
  }
 ],
 "metadata": {
  "kernelspec": {
   "display_name": "CS4580_Module4",
   "language": "python",
   "name": "python3"
  },
  "language_info": {
   "codemirror_mode": {
    "name": "ipython",
    "version": 3
   },
   "file_extension": ".py",
   "mimetype": "text/x-python",
   "name": "python",
   "nbconvert_exporter": "python",
   "pygments_lexer": "ipython3",
   "version": "3.12.5"
  }
 },
 "nbformat": 4,
 "nbformat_minor": 2
}
